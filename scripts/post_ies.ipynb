{
 "cells": [
  {
   "cell_type": "code",
   "execution_count": 1,
   "id": "33c3b2a5-6c12-4f86-88f4-ae9088397e72",
   "metadata": {},
   "outputs": [],
   "source": [
    "import pyemu,os\n",
    "import pandas as pd\n",
    "import matplotlib.pyplot as plt\n",
    "import numpy as np\n",
    "from variables import *"
   ]
  },
  {
   "cell_type": "code",
   "execution_count": 2,
   "id": "3471bdd6-e285-4b03-b947-8bb206177dd1",
   "metadata": {},
   "outputs": [],
   "source": [
    "baseModelPath = os.path.join(pestPath,'base')\n",
    "tmpModPath = os.path.join(pestPath,'tmp')\n",
    "multirunPath = os.path.join(pestPath,'multirun')\n",
    "\n",
    "pstFilePath = os.path.join(tmpModPath,pstFile)\n",
    "basePath = os.path.join(auxPath,F'{ws}.gpkg')"
   ]
  },
  {
   "cell_type": "code",
   "execution_count": 3,
   "id": "e5af68a0-dfa3-41e6-9333-e5583b8b80c7",
   "metadata": {},
   "outputs": [],
   "source": [
    "pst = pyemu.Pst(pstFilePath)\n",
    "obsData = pst.observation_data.obsval.values\n",
    "obsDataCols = pd.to_datetime(pst.observation_data.idx0).sort_values().index.to_list()"
   ]
  },
  {
   "cell_type": "code",
   "execution_count": 4,
   "id": "58343e7a-50c1-4047-8e19-af159af7a15d",
   "metadata": {},
   "outputs": [
    {
     "data": {
      "text/html": [
       "<div>\n",
       "<style scoped>\n",
       "    .dataframe tbody tr th:only-of-type {\n",
       "        vertical-align: middle;\n",
       "    }\n",
       "\n",
       "    .dataframe tbody tr th {\n",
       "        vertical-align: top;\n",
       "    }\n",
       "\n",
       "    .dataframe thead th {\n",
       "        text-align: right;\n",
       "    }\n",
       "</style>\n",
       "<table border=\"1\" class=\"dataframe\">\n",
       "  <thead>\n",
       "    <tr style=\"text-align: right;\">\n",
       "      <th></th>\n",
       "      <th>iteration</th>\n",
       "      <th>total_runs</th>\n",
       "      <th>mean</th>\n",
       "      <th>standard_deviation</th>\n",
       "      <th>min</th>\n",
       "      <th>max</th>\n",
       "      <th>0</th>\n",
       "      <th>1</th>\n",
       "      <th>2</th>\n",
       "      <th>3</th>\n",
       "      <th>...</th>\n",
       "      <th>90</th>\n",
       "      <th>91</th>\n",
       "      <th>92</th>\n",
       "      <th>93</th>\n",
       "      <th>94</th>\n",
       "      <th>95</th>\n",
       "      <th>96</th>\n",
       "      <th>97</th>\n",
       "      <th>98</th>\n",
       "      <th>base</th>\n",
       "    </tr>\n",
       "  </thead>\n",
       "  <tbody>\n",
       "    <tr>\n",
       "      <th>0</th>\n",
       "      <td>0</td>\n",
       "      <td>100</td>\n",
       "      <td>5.272280e+11</td>\n",
       "      <td>6.102440e+10</td>\n",
       "      <td>4.679650e+11</td>\n",
       "      <td>7.720430e+11</td>\n",
       "      <td>5.363870e+11</td>\n",
       "      <td>4.719800e+11</td>\n",
       "      <td>5.143080e+11</td>\n",
       "      <td>4.803800e+11</td>\n",
       "      <td>...</td>\n",
       "      <td>5.101090e+11</td>\n",
       "      <td>6.003490e+11</td>\n",
       "      <td>4.806740e+11</td>\n",
       "      <td>4.760740e+11</td>\n",
       "      <td>4.740660e+11</td>\n",
       "      <td>4.728990e+11</td>\n",
       "      <td>4.709850e+11</td>\n",
       "      <td>4.865530e+11</td>\n",
       "      <td>5.268550e+11</td>\n",
       "      <td>4.989050e+11</td>\n",
       "    </tr>\n",
       "    <tr>\n",
       "      <th>1</th>\n",
       "      <td>1</td>\n",
       "      <td>232</td>\n",
       "      <td>4.809540e+11</td>\n",
       "      <td>4.270480e+09</td>\n",
       "      <td>4.710330e+11</td>\n",
       "      <td>4.897500e+11</td>\n",
       "      <td>4.789640e+11</td>\n",
       "      <td>4.737910e+11</td>\n",
       "      <td>4.817750e+11</td>\n",
       "      <td>4.849700e+11</td>\n",
       "      <td>...</td>\n",
       "      <td>4.833070e+11</td>\n",
       "      <td>4.774540e+11</td>\n",
       "      <td>4.842220e+11</td>\n",
       "      <td>4.792270e+11</td>\n",
       "      <td>4.806650e+11</td>\n",
       "      <td>4.793870e+11</td>\n",
       "      <td>4.763570e+11</td>\n",
       "      <td>4.863980e+11</td>\n",
       "      <td>4.777050e+11</td>\n",
       "      <td>4.807130e+11</td>\n",
       "    </tr>\n",
       "    <tr>\n",
       "      <th>2</th>\n",
       "      <td>2</td>\n",
       "      <td>364</td>\n",
       "      <td>4.717400e+11</td>\n",
       "      <td>6.094770e+08</td>\n",
       "      <td>4.708440e+11</td>\n",
       "      <td>4.743020e+11</td>\n",
       "      <td>4.717570e+11</td>\n",
       "      <td>4.721950e+11</td>\n",
       "      <td>4.721980e+11</td>\n",
       "      <td>4.716520e+11</td>\n",
       "      <td>...</td>\n",
       "      <td>4.714980e+11</td>\n",
       "      <td>4.718070e+11</td>\n",
       "      <td>4.718540e+11</td>\n",
       "      <td>4.715410e+11</td>\n",
       "      <td>4.712860e+11</td>\n",
       "      <td>4.718700e+11</td>\n",
       "      <td>4.712700e+11</td>\n",
       "      <td>4.711940e+11</td>\n",
       "      <td>4.711030e+11</td>\n",
       "      <td>4.714880e+11</td>\n",
       "    </tr>\n",
       "    <tr>\n",
       "      <th>3</th>\n",
       "      <td>3</td>\n",
       "      <td>496</td>\n",
       "      <td>4.670110e+11</td>\n",
       "      <td>2.658800e+07</td>\n",
       "      <td>4.669490e+11</td>\n",
       "      <td>4.671020e+11</td>\n",
       "      <td>4.670110e+11</td>\n",
       "      <td>4.670500e+11</td>\n",
       "      <td>4.670000e+11</td>\n",
       "      <td>4.670010e+11</td>\n",
       "      <td>...</td>\n",
       "      <td>4.670260e+11</td>\n",
       "      <td>4.670470e+11</td>\n",
       "      <td>4.670050e+11</td>\n",
       "      <td>4.670090e+11</td>\n",
       "      <td>4.670070e+11</td>\n",
       "      <td>4.670050e+11</td>\n",
       "      <td>4.670120e+11</td>\n",
       "      <td>4.670190e+11</td>\n",
       "      <td>4.669900e+11</td>\n",
       "      <td>4.669850e+11</td>\n",
       "    </tr>\n",
       "    <tr>\n",
       "      <th>4</th>\n",
       "      <td>4</td>\n",
       "      <td>628</td>\n",
       "      <td>4.669340e+11</td>\n",
       "      <td>4.992910e+06</td>\n",
       "      <td>4.669130e+11</td>\n",
       "      <td>4.669440e+11</td>\n",
       "      <td>4.669350e+11</td>\n",
       "      <td>4.669330e+11</td>\n",
       "      <td>4.669370e+11</td>\n",
       "      <td>4.669360e+11</td>\n",
       "      <td>...</td>\n",
       "      <td>4.669380e+11</td>\n",
       "      <td>4.669320e+11</td>\n",
       "      <td>4.669340e+11</td>\n",
       "      <td>4.669350e+11</td>\n",
       "      <td>4.669360e+11</td>\n",
       "      <td>4.669370e+11</td>\n",
       "      <td>4.669350e+11</td>\n",
       "      <td>4.669340e+11</td>\n",
       "      <td>4.669400e+11</td>\n",
       "      <td>4.669390e+11</td>\n",
       "    </tr>\n",
       "    <tr>\n",
       "      <th>5</th>\n",
       "      <td>5</td>\n",
       "      <td>760</td>\n",
       "      <td>4.669050e+11</td>\n",
       "      <td>2.830160e+06</td>\n",
       "      <td>4.668970e+11</td>\n",
       "      <td>4.669110e+11</td>\n",
       "      <td>4.669040e+11</td>\n",
       "      <td>4.669000e+11</td>\n",
       "      <td>4.669050e+11</td>\n",
       "      <td>4.669060e+11</td>\n",
       "      <td>...</td>\n",
       "      <td>4.669080e+11</td>\n",
       "      <td>4.668990e+11</td>\n",
       "      <td>4.669070e+11</td>\n",
       "      <td>4.669080e+11</td>\n",
       "      <td>4.669050e+11</td>\n",
       "      <td>4.669040e+11</td>\n",
       "      <td>4.669050e+11</td>\n",
       "      <td>4.669060e+11</td>\n",
       "      <td>4.669050e+11</td>\n",
       "      <td>4.669080e+11</td>\n",
       "    </tr>\n",
       "  </tbody>\n",
       "</table>\n",
       "<p>6 rows × 106 columns</p>\n",
       "</div>"
      ],
      "text/plain": [
       "   iteration  total_runs          mean  standard_deviation           min  \\\n",
       "0          0         100  5.272280e+11        6.102440e+10  4.679650e+11   \n",
       "1          1         232  4.809540e+11        4.270480e+09  4.710330e+11   \n",
       "2          2         364  4.717400e+11        6.094770e+08  4.708440e+11   \n",
       "3          3         496  4.670110e+11        2.658800e+07  4.669490e+11   \n",
       "4          4         628  4.669340e+11        4.992910e+06  4.669130e+11   \n",
       "5          5         760  4.669050e+11        2.830160e+06  4.668970e+11   \n",
       "\n",
       "            max             0             1             2             3  ...  \\\n",
       "0  7.720430e+11  5.363870e+11  4.719800e+11  5.143080e+11  4.803800e+11  ...   \n",
       "1  4.897500e+11  4.789640e+11  4.737910e+11  4.817750e+11  4.849700e+11  ...   \n",
       "2  4.743020e+11  4.717570e+11  4.721950e+11  4.721980e+11  4.716520e+11  ...   \n",
       "3  4.671020e+11  4.670110e+11  4.670500e+11  4.670000e+11  4.670010e+11  ...   \n",
       "4  4.669440e+11  4.669350e+11  4.669330e+11  4.669370e+11  4.669360e+11  ...   \n",
       "5  4.669110e+11  4.669040e+11  4.669000e+11  4.669050e+11  4.669060e+11  ...   \n",
       "\n",
       "             90            91            92            93            94  \\\n",
       "0  5.101090e+11  6.003490e+11  4.806740e+11  4.760740e+11  4.740660e+11   \n",
       "1  4.833070e+11  4.774540e+11  4.842220e+11  4.792270e+11  4.806650e+11   \n",
       "2  4.714980e+11  4.718070e+11  4.718540e+11  4.715410e+11  4.712860e+11   \n",
       "3  4.670260e+11  4.670470e+11  4.670050e+11  4.670090e+11  4.670070e+11   \n",
       "4  4.669380e+11  4.669320e+11  4.669340e+11  4.669350e+11  4.669360e+11   \n",
       "5  4.669080e+11  4.668990e+11  4.669070e+11  4.669080e+11  4.669050e+11   \n",
       "\n",
       "             95            96            97            98          base  \n",
       "0  4.728990e+11  4.709850e+11  4.865530e+11  5.268550e+11  4.989050e+11  \n",
       "1  4.793870e+11  4.763570e+11  4.863980e+11  4.777050e+11  4.807130e+11  \n",
       "2  4.718700e+11  4.712700e+11  4.711940e+11  4.711030e+11  4.714880e+11  \n",
       "3  4.670050e+11  4.670120e+11  4.670190e+11  4.669900e+11  4.669850e+11  \n",
       "4  4.669370e+11  4.669350e+11  4.669340e+11  4.669400e+11  4.669390e+11  \n",
       "5  4.669040e+11  4.669050e+11  4.669060e+11  4.669050e+11  4.669080e+11  \n",
       "\n",
       "[6 rows x 106 columns]"
      ]
     },
     "execution_count": 4,
     "metadata": {},
     "output_type": "execute_result"
    }
   ],
   "source": [
    "df = pd.read_csv(os.path.join(multirunPath,'master',F\"{ws.lower()}.phi.actual.csv\"))\n",
    "df"
   ]
  },
  {
   "cell_type": "code",
   "execution_count": 5,
   "id": "97813b5a-eda2-4b82-9280-b1aae52d34de",
   "metadata": {},
   "outputs": [
    {
     "data": {
      "text/plain": [
       "Text(0.5, 0, 'model runs')"
      ]
     },
     "execution_count": 5,
     "metadata": {},
     "output_type": "execute_result"
    },
    {
     "data": {
      "image/png": "[encoded data removed]",
      "text/plain": [
       "<Figure size 432x288 with 1 Axes>"
      ]
     },
     "metadata": {
      "needs_background": "light"
     },
     "output_type": "display_data"
    }
   ],
   "source": [
    "fig,ax = plt.subplots(1,1)\n",
    "_ = [ax.plot(df.total_runs,np.log10(df.loc[:,i].values),\"0.5\",lw=0.5) for i in df.columns[6:]]\n",
    "ax.set_ylabel(\"$log_{10}\\\\phi$\")\n",
    "ax.set_xlabel(\"model runs\")"
   ]
  },
  {
   "cell_type": "code",
   "execution_count": 6,
   "id": "23343171-dbbe-41a9-8eb6-f25b1e4ee001",
   "metadata": {},
   "outputs": [
    {
     "name": "stdout",
     "output_type": "stream",
     "text": [
      "Max iteration: 5\n",
      "Real w min Phi: 5\n",
      "Min Phi: 466897000000.0\n"
     ]
    }
   ],
   "source": [
    "outPhi =df.loc[df.iteration==df.iteration.max(),df.columns[6:]].min(axis=1)\n",
    "print(F\"Max iteration: {df.iteration.max()}\\nReal w min Phi: {outPhi.index.item()}\\nMin Phi: {outPhi.item()}\")"
   ]
  },
  {
   "cell_type": "code",
   "execution_count": 7,
   "id": "8ee22a56-1c63-46b6-b55f-b40824b61f05",
   "metadata": {},
   "outputs": [],
   "source": [
    "obs_plus_noise = pyemu.ObservationEnsemble.from_csv(pst=pst,filename=os.path.join(multirunPath,'master',F'{ws.lower()}.obs+noise.csv'))\n",
    "pr_oe = pyemu.ObservationEnsemble.from_csv(pst,os.path.join(multirunPath,'master',F'{ws.lower()}.0.obs.csv'))\n",
    "pt_oe = pyemu.ObservationEnsemble.from_csv(pst,os.path.join(multirunPath,'master',F'{ws.lower()}.5.obs.csv'))"
   ]
  },
  {
   "cell_type": "code",
   "execution_count": 8,
   "id": "2dc8fc1c-f9cf-4828-b310-7eed25faeb47",
   "metadata": {},
   "outputs": [],
   "source": [
    "base_pt_oe = pt_oe.loc['base',obsDataCols]\n",
    "best_pt_oe = pt_oe.loc['4',obsDataCols]"
   ]
  },
  {
   "cell_type": "code",
   "execution_count": 23,
   "id": "976ac324-b9e7-4c1c-863b-ada870705310",
   "metadata": {},
   "outputs": [
    {
     "data": {
      "text/plain": [
       "[<matplotlib.lines.Line2D at 0x7fc34606fe50>]"
      ]
     },
     "execution_count": 23,
     "metadata": {},
     "output_type": "execute_result"
    },
    {
     "data": {
      "image/png": "[encoded data removed]",
      "text/plain": [
       "<Figure size 432x288 with 1 Axes>"
      ]
     },
     "metadata": {
      "needs_background": "light"
     },
     "output_type": "display_data"
    }
   ],
   "source": [
    "#pt_oe.loc[:5,obsColsSort]\n",
    "fig,ax=plt.subplots()\n",
    "ax.plot(obsData,color='black')\n",
    "ax.plot(base_pt_oe.values)\n",
    "ax.plot(best_pt_oe.values)\n",
    "# for idx in pt_oe.index:\n",
    "#     ax.plot(pt_oe.loc[idx,obsDataCols].values)"
   ]
  },
  {
   "cell_type": "code",
   "execution_count": 15,
   "id": "cc6d0f2b-3d94-4019-ad22-d66a4a08cc4b",
   "metadata": {},
   "outputs": [],
   "source": [
    "#pst.pestpp_options[\"ies_no_noise\"] = False"
   ]
  },
  {
   "cell_type": "code",
   "execution_count": null,
   "id": "354c180b-18cc-4787-bd31-5d7d6d1a9a0f",
   "metadata": {},
   "outputs": [],
   "source": []
  }
 ],
 "metadata": {
  "kernelspec": {
   "display_name": "Python 3 (ipykernel)",
   "language": "python",
   "name": "python3"
  },
  "language_info": {
   "codemirror_mode": {
    "name": "ipython",
    "version": 3
   },
   "file_extension": ".py",
   "mimetype": "text/x-python",
   "name": "python",
   "nbconvert_exporter": "python",
   "pygments_lexer": "ipython3",
   "version": "3.8.10"
  }
 },
 "nbformat": 4,
 "nbformat_minor": 5
}
