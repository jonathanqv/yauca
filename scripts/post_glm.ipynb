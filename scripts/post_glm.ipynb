{
 "cells": [
  {
   "cell_type": "code",
   "execution_count": 478,
   "id": "8cd3bd84-206c-4c64-b97e-c483d8e22c3d",
   "metadata": {},
   "outputs": [],
   "source": [
    "import pandas as pd\n",
    "import matplotlib.pyplot as plt\n",
    "import numpy as np\n",
    "from helpers import stats\n",
    "from variables import *\n",
    "from matplotlib import rc\n",
    "from Figures import ReportFigures\n",
    "rf = ReportFigures()\n",
    "rf.set_style(width='double', height='tall')\n",
    "rc('text', usetex=True)\n",
    "plt.rcParams['axes.titlesize'] = 14\n",
    "plt.rcParams['axes.labelsize'] = 12\n",
    "plt.rcParams['xtick.labelsize'] = 12\n",
    "plt.rcParams['ytick.labelsize'] = 12"
   ]
  },
  {
   "cell_type": "code",
   "execution_count": 479,
   "id": "76e4cd22-9176-4431-a89b-aa32732393da",
   "metadata": {},
   "outputs": [],
   "source": [
    "path = os.path.join(pestPath,'multirun','master')"
   ]
  },
  {
   "cell_type": "code",
   "execution_count": 480,
   "id": "f243b269-4729-4289-965e-24d1b7238c48",
   "metadata": {},
   "outputs": [
    {
     "data": {
      "text/html": [
       "<div>\n",
       "<style scoped>\n",
       "    .dataframe tbody tr th:only-of-type {\n",
       "        vertical-align: middle;\n",
       "    }\n",
       "\n",
       "    .dataframe tbody tr th {\n",
       "        vertical-align: top;\n",
       "    }\n",
       "\n",
       "    .dataframe thead th {\n",
       "        text-align: right;\n",
       "    }\n",
       "</style>\n",
       "<table border=\"1\" class=\"dataframe\">\n",
       "  <thead>\n",
       "    <tr style=\"text-align: right;\">\n",
       "      <th></th>\n",
       "      <th>model_runs_completed</th>\n",
       "      <th>total_phi</th>\n",
       "      <th>measurement_phi</th>\n",
       "      <th>regularization_phi</th>\n",
       "      <th>ya_flow</th>\n",
       "    </tr>\n",
       "    <tr>\n",
       "      <th>iteration</th>\n",
       "      <th></th>\n",
       "      <th></th>\n",
       "      <th></th>\n",
       "      <th></th>\n",
       "      <th></th>\n",
       "    </tr>\n",
       "  </thead>\n",
       "  <tbody>\n",
       "    <tr>\n",
       "      <th>0</th>\n",
       "      <td>0</td>\n",
       "      <td>9.604480e+14</td>\n",
       "      <td>9.604480e+14</td>\n",
       "      <td>0</td>\n",
       "      <td>9.604480e+14</td>\n",
       "    </tr>\n",
       "    <tr>\n",
       "      <th>1</th>\n",
       "      <td>15</td>\n",
       "      <td>9.604450e+14</td>\n",
       "      <td>9.604450e+14</td>\n",
       "      <td>0</td>\n",
       "      <td>9.604450e+14</td>\n",
       "    </tr>\n",
       "    <tr>\n",
       "      <th>2</th>\n",
       "      <td>29</td>\n",
       "      <td>9.603810e+14</td>\n",
       "      <td>9.603810e+14</td>\n",
       "      <td>0</td>\n",
       "      <td>9.603810e+14</td>\n",
       "    </tr>\n",
       "    <tr>\n",
       "      <th>3</th>\n",
       "      <td>47</td>\n",
       "      <td>9.603240e+14</td>\n",
       "      <td>9.603240e+14</td>\n",
       "      <td>0</td>\n",
       "      <td>9.603240e+14</td>\n",
       "    </tr>\n",
       "  </tbody>\n",
       "</table>\n",
       "</div>"
      ],
      "text/plain": [
       "           model_runs_completed     total_phi  measurement_phi  \\\n",
       "iteration                                                        \n",
       "0                             0  9.604480e+14     9.604480e+14   \n",
       "1                            15  9.604450e+14     9.604450e+14   \n",
       "2                            29  9.603810e+14     9.603810e+14   \n",
       "3                            47  9.603240e+14     9.603240e+14   \n",
       "\n",
       "           regularization_phi       ya_flow  \n",
       "iteration                                    \n",
       "0                           0  9.604480e+14  \n",
       "1                           0  9.604450e+14  \n",
       "2                           0  9.603810e+14  \n",
       "3                           0  9.603240e+14  "
      ]
     },
     "execution_count": 480,
     "metadata": {},
     "output_type": "execute_result"
    },
    {
     "data": {
      "image/png": "[encoded data removed]",
      "text/plain": [
       "<Figure size 504x441 with 1 Axes>"
      ]
     },
     "metadata": {
      "needs_background": "light"
     },
     "output_type": "display_data"
    }
   ],
   "source": [
    "itPath = os.path.join(path,F'{ws.lower()}.iobj')\n",
    "it = pd.read_csv(itPath,index_col=0)\n",
    "it['total_phi'].plot()\n",
    "it"
   ]
  },
  {
   "cell_type": "code",
   "execution_count": 481,
   "id": "d2c47902-94ef-4b57-b15b-36395d792a61",
   "metadata": {},
   "outputs": [
    {
     "data": {
      "text/html": [
       "<div>\n",
       "<style scoped>\n",
       "    .dataframe tbody tr th:only-of-type {\n",
       "        vertical-align: middle;\n",
       "    }\n",
       "\n",
       "    .dataframe tbody tr th {\n",
       "        vertical-align: top;\n",
       "    }\n",
       "\n",
       "    .dataframe thead th {\n",
       "        text-align: right;\n",
       "    }\n",
       "</style>\n",
       "<table border=\"1\" class=\"dataframe\">\n",
       "  <thead>\n",
       "    <tr style=\"text-align: right;\">\n",
       "      <th></th>\n",
       "      <th></th>\n",
       "      <th>single</th>\n",
       "      <th>point</th>\n",
       "    </tr>\n",
       "  </thead>\n",
       "  <tbody>\n",
       "    <tr>\n",
       "      <th>pname:soil-slowcoef_lin_inst:0_ptype:zn_pstyle:d_zone:1</th>\n",
       "      <th>0.149700</th>\n",
       "      <td>1.0</td>\n",
       "      <td>0.0</td>\n",
       "    </tr>\n",
       "    <tr>\n",
       "      <th>pname:soil-soil_moist_max_inst:0_ptype:zn_pstyle:d_zone:1</th>\n",
       "      <th>2.006148</th>\n",
       "      <td>1.0</td>\n",
       "      <td>0.0</td>\n",
       "    </tr>\n",
       "    <tr>\n",
       "      <th>pname:soil-soil_rechr_max_frac_inst:0_ptype:zn_pstyle:d_zone:1</th>\n",
       "      <th>0.799592</th>\n",
       "      <td>1.0</td>\n",
       "      <td>0.0</td>\n",
       "    </tr>\n",
       "    <tr>\n",
       "      <th>pname:soil-ssr2gw_rate_inst:0_ptype:zn_pstyle:d_zone:1</th>\n",
       "      <th>0.090909</th>\n",
       "      <td>1.0</td>\n",
       "      <td>0.0</td>\n",
       "    </tr>\n",
       "  </tbody>\n",
       "</table>\n",
       "</div>"
      ],
      "text/plain": [
       "                                                             single  point\n",
       "pname:soil-slowcoef_lin_inst:0_ptype:zn_pstyle:... 0.149700     1.0    0.0\n",
       "pname:soil-soil_moist_max_inst:0_ptype:zn_pstyl... 2.006148     1.0    0.0\n",
       "pname:soil-soil_rechr_max_frac_inst:0_ptype:zn_... 0.799592     1.0    0.0\n",
       "pname:soil-ssr2gw_rate_inst:0_ptype:zn_pstyle:d... 0.090909     1.0    0.0"
      ]
     },
     "execution_count": 481,
     "metadata": {},
     "output_type": "execute_result"
    }
   ],
   "source": [
    "### parPath = os.path.join(path,F'{ws.lower()}.par')\n",
    "par = pd.read_csv(parPath,delim_whitespace=True)\n",
    "par"
   ]
  },
  {
   "cell_type": "code",
   "execution_count": 482,
   "id": "216f463f-b96b-460a-b8fb-2573de77d503",
   "metadata": {},
   "outputs": [
    {
     "name": "stdout",
     "output_type": "stream",
     "text": [
      "                    PARAMETER SENSITIVITIES: CASE yauca\n",
      "\n",
      "\n",
      "NUMERIC PARAMETER SENSITIVITIES FOR OPTIMISATION ITERATION NO. 1   ----->\n",
      "  Parameter name   Group        Current Value        PEST_CSS_wo_reg\n",
      "   pname:soil-slowcoef_lin_inst:0_ptype:zn_pstyle:d_zone:1 slowcoef_lin 0.150000000000       3.76596658522       \n",
      "   pname:soil-soil_moist_max_inst:0_ptype:zn_pstyle:d_zone:1 soil_moist_max 2.00000000000        698.458619665       \n",
      "   pname:soil-soil_rechr_max_frac_inst:0_ptype:zn_pstyle:d_zone:1 soil_rechr_max_frac 0.800000000000       584.473838126       \n",
      "   pname:soil-ssr2gw_rate_inst:0_ptype:zn_pstyle:d_zone:1 ssr2gw_rate  0.100000000000       0.303231943934      \n",
      "\n",
      "\n",
      "NUMERIC PARAMETER SENSITIVITIES FOR OPTIMISATION ITERATION NO. 2   ----->\n",
      "  Parameter name   Group        Current Value        PEST_CSS_wo_reg\n",
      "   pname:soil-slowcoef_lin_inst:0_ptype:zn_pstyle:d_zone:1 slowcoef_lin 0.138013839528       50.4156551994       \n",
      "   pname:soil-soil_moist_max_inst:0_ptype:zn_pstyle:d_zone:1 soil_moist_max 2.00041403550        692.205352030       \n",
      "   pname:soil-soil_rechr_max_frac_inst:0_ptype:zn_pstyle:d_zone:1 soil_rechr_max_frac 0.799912098836       622.530577308       \n",
      "   pname:soil-ssr2gw_rate_inst:0_ptype:zn_pstyle:d_zone:1 ssr2gw_rate  0.110000000000       85.7279465743       \n",
      "\n",
      "\n",
      "NUMERIC PARAMETER SENSITIVITIES FOR OPTIMISATION ITERATION NO. 3   ----->\n",
      "  Parameter name   Group        Current Value        PEST_CSS_wo_reg\n",
      "   pname:soil-slowcoef_lin_inst:0_ptype:zn_pstyle:d_zone:1 slowcoef_lin 0.144281325839       26.0790138285       \n",
      "   pname:soil-soil_moist_max_inst:0_ptype:zn_pstyle:d_zone:1 soil_moist_max 2.00397776557        578.682481235       \n",
      "   pname:soil-soil_rechr_max_frac_inst:0_ptype:zn_pstyle:d_zone:1 soil_rechr_max_frac 0.799355758840       391.917446392       \n",
      "   pname:soil-ssr2gw_rate_inst:0_ptype:zn_pstyle:d_zone:1 ssr2gw_rate  0.100000000000       38.5398176345       \n",
      "\n",
      "\n"
     ]
    }
   ],
   "source": [
    "senPath = os.path.join(path,F'{ws.lower()}.sen')\n",
    "#sen = pd.read_csv(senPath,delim_whitespace=True)\n",
    "#sen\n",
    "!cat $senPath"
   ]
  },
  {
   "cell_type": "code",
   "execution_count": null,
   "id": "3c87644c-8bb6-4e03-ba3d-bec28888816e",
   "metadata": {},
   "outputs": [],
   "source": []
  },
  {
   "cell_type": "code",
   "execution_count": 483,
   "id": "fc89a01a-4227-4fba-bf08-4e9df2ca85ca",
   "metadata": {},
   "outputs": [],
   "source": [
    "# group,params,dim,min,max,default,PARTRANS\n",
    "# soil,carea_max,nhru,0.3,1,0.6,none\n",
    "# groundwater,gwflow_coef,nhru,0,0.5,0,none"
   ]
  },
  {
   "cell_type": "code",
   "execution_count": null,
   "id": "c746a6be-bf15-416b-8e57-c681797ff9dd",
   "metadata": {},
   "outputs": [],
   "source": []
  },
  {
   "cell_type": "code",
   "execution_count": null,
   "id": "96271b04-a26a-4ee5-ab81-b5837063b98b",
   "metadata": {},
   "outputs": [],
   "source": []
  },
  {
   "cell_type": "code",
   "execution_count": null,
   "id": "2d8ab1b8-7f4e-4391-85b8-f50d2a81e422",
   "metadata": {},
   "outputs": [],
   "source": []
  }
 ],
 "metadata": {
  "kernelspec": {
   "display_name": "Python 3 (ipykernel)",
   "language": "python",
   "name": "python3"
  },
  "language_info": {
   "codemirror_mode": {
    "name": "ipython",
    "version": 3
   },
   "file_extension": ".py",
   "mimetype": "text/x-python",
   "name": "python",
   "nbconvert_exporter": "python",
   "pygments_lexer": "ipython3",
   "version": "3.8.10"
  }
 },
 "nbformat": 4,
 "nbformat_minor": 5
}
